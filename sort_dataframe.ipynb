{
 "cells": [
  {
   "cell_type": "code",
   "execution_count": 27,
   "metadata": {},
   "outputs": [
    {
     "name": "stdout",
     "output_type": "stream",
     "text": [
      "0     NaN\n",
      "1     NaN\n",
      "2     NaN\n",
      "3     NaN\n",
      "4     NaN\n",
      "5     NaN\n",
      "6     NaN\n",
      "7     NaN\n",
      "8     NaN\n",
      "9     NaN\n",
      "10    NaN\n",
      "11    NaN\n",
      "12    NaN\n",
      "13    NaN\n",
      "14    NaN\n",
      "15    NaN\n",
      "16    NaN\n",
      "17    NaN\n",
      "18    NaN\n",
      "19    NaN\n",
      "Name: N1.txt, dtype: object\n"
     ]
    }
   ],
   "source": [
    "import pandas as pd\n",
    "import re\n",
    "\n",
    "# Create a dataframe\n",
    "columns = ['level','N5.txt','N4.txt','N3.txt','N2.txt','N1.txt']\n",
    "df = pd.DataFrame(columns = columns, index=range(3467))\n",
    "\n",
    "# Read the text files and split lines\n",
    "for i in columns[1:5]:\n",
    "    with open(i, 'r', encoding='utf-8') as file:\n",
    "        lines = file.readlines()\n",
    "\n",
    "            # Extract the first word from each line\n",
    "    words = [re.split(r\"\\W+\", line)[0] for line in lines]\n",
    "\n",
    "            # Create a DataFrame\n",
    "    leng = len(words)\n",
    "    df.loc[0:leng-1, i] = words\n",
    "    \n",
    "\n",
    "\n",
    "\n",
    "# Display the DataFrame\n",
    "print(df.iloc[0:20, 5])\n"
   ]
  }
 ],
 "metadata": {
  "kernelspec": {
   "display_name": ".venv",
   "language": "python",
   "name": "python3"
  },
  "language_info": {
   "codemirror_mode": {
    "name": "ipython",
    "version": 3
   },
   "file_extension": ".py",
   "mimetype": "text/x-python",
   "name": "python",
   "nbconvert_exporter": "python",
   "pygments_lexer": "ipython3",
   "version": "3.12.1"
  }
 },
 "nbformat": 4,
 "nbformat_minor": 2
}
