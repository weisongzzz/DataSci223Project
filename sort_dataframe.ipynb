{
 "cells": [
  {
   "cell_type": "code",
   "execution_count": 2,
   "metadata": {},
   "outputs": [
    {
     "name": "stdout",
     "output_type": "stream",
     "text": [
      "0        嗚呼\n",
      "1         相\n",
      "2     相変わらず\n",
      "3        愛想\n",
      "4        相対\n",
      "5        間柄\n",
      "6        愛憎\n",
      "7        合間\n",
      "8        曖昧\n",
      "9       敢えて\n",
      "10       仰ぐ\n",
      "11        垢\n",
      "12       亜科\n",
      "13        銅\n",
      "14        証\n",
      "15       赤字\n",
      "16      明かす\n",
      "17     赤ちゃん\n",
      "18       明白\n",
      "19      赤らむ\n",
      "Name: N1.txt, dtype: object\n"
     ]
    }
   ],
   "source": [
    "# This script reads through all txt files, extracts the first word from each line of the text,\n",
    "# and store in a dataframe with any number of rows, i.e. 3467 rows here for the maximum needed.\n",
    "\n",
    "# Output: dictionary.csv containing labels for each vocabulary\n",
    "\n",
    "import pandas as pd\n",
    "import re\n",
    "\n",
    "# Create a dataframe\n",
    "columns = ['N5.txt','N4.txt','N3.txt','N2.txt','N1.txt']\n",
    "df = pd.DataFrame(columns = columns, index=range(3467))\n",
    "\n",
    "# Read the text files and split lines\n",
    "for i in columns:\n",
    "    with open(i, 'r', encoding='utf-8') as file:\n",
    "        lines = file.readlines()\n",
    "\n",
    "            # Extract the first word from each line\n",
    "    words = [re.split(r\"\\W+\", line)[0] for line in lines]\n",
    "\n",
    "            # Create a DataFrame\n",
    "    leng = len(words)\n",
    "    df.loc[0:leng-1, i] = words\n",
    "    \n",
    "# Display the DataFrame\n",
    "print(df.iloc[0:20, 4])\n",
    "\n",
    "# Save the DataFrame to a new CSV file\n",
    "df.to_csv('dictionary.csv', index=False)\n"
   ]
  }
 ],
 "metadata": {
  "kernelspec": {
   "display_name": ".venv",
   "language": "python",
   "name": "python3"
  },
  "language_info": {
   "codemirror_mode": {
    "name": "ipython",
    "version": 3
   },
   "file_extension": ".py",
   "mimetype": "text/x-python",
   "name": "python",
   "nbconvert_exporter": "python",
   "pygments_lexer": "ipython3",
   "version": "3.12.1"
  }
 },
 "nbformat": 4,
 "nbformat_minor": 2
}
