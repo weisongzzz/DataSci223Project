{
 "cells": [
  {
   "cell_type": "code",
   "execution_count": 3,
   "metadata": {},
   "outputs": [
    {
     "name": "stdout",
     "output_type": "stream",
     "text": [
      "Collecting janome\n",
      "  Obtaining dependency information for janome from https://files.pythonhosted.org/packages/73/7d/70f4069f4bbf0fca023e82a1fbbade6f5216365d4fe259fee1950723eca5/Janome-0.5.0-py2.py3-none-any.whl.metadata\n",
      "  Downloading Janome-0.5.0-py2.py3-none-any.whl.metadata (2.6 kB)\n",
      "Downloading Janome-0.5.0-py2.py3-none-any.whl (19.7 MB)\n",
      "   ---------------------------------------- 0.0/19.7 MB ? eta -:--:--\n",
      "   ---------------------------------------- 0.0/19.7 MB ? eta -:--:--\n",
      "   ---------------------------------------- 0.2/19.7 MB 2.5 MB/s eta 0:00:08\n",
      "   -- ------------------------------------- 1.2/19.7 MB 9.2 MB/s eta 0:00:03\n",
      "   ----- ---------------------------------- 2.7/19.7 MB 16.8 MB/s eta 0:00:02\n",
      "   -------- ------------------------------- 4.2/19.7 MB 20.5 MB/s eta 0:00:01\n",
      "   ----------- ---------------------------- 5.7/19.7 MB 22.9 MB/s eta 0:00:01\n",
      "   --------------- ------------------------ 7.4/19.7 MB 24.9 MB/s eta 0:00:01\n",
      "   ----------------- ---------------------- 8.8/19.7 MB 25.4 MB/s eta 0:00:01\n",
      "   --------------------- ------------------ 10.5/19.7 MB 32.8 MB/s eta 0:00:01\n",
      "   ------------------------ --------------- 12.1/19.7 MB 34.4 MB/s eta 0:00:01\n",
      "   --------------------------- ------------ 13.6/19.7 MB 34.4 MB/s eta 0:00:01\n",
      "   ------------------------------- -------- 15.3/19.7 MB 34.4 MB/s eta 0:00:01\n",
      "   ---------------------------------- ----- 17.0/19.7 MB 34.4 MB/s eta 0:00:01\n",
      "   ------------------------------------- -- 18.6/19.7 MB 34.6 MB/s eta 0:00:01\n",
      "   ---------------------------------------  19.7/19.7 MB 34.4 MB/s eta 0:00:01\n",
      "   ---------------------------------------- 19.7/19.7 MB 29.7 MB/s eta 0:00:00\n",
      "Installing collected packages: janome\n",
      "Successfully installed janome-0.5.0\n",
      "Note: you may need to restart the kernel to use updated packages.\n"
     ]
    },
    {
     "name": "stderr",
     "output_type": "stream",
     "text": [
      "\n",
      "[notice] A new release of pip is available: 23.2.1 -> 24.0\n",
      "[notice] To update, run: python.exe -m pip install --upgrade pip\n"
     ]
    }
   ],
   "source": [
    "%pip install janome"
   ]
  },
  {
   "cell_type": "code",
   "execution_count": 7,
   "metadata": {},
   "outputs": [
    {
     "name": "stdout",
     "output_type": "stream",
     "text": [
      "今日\n",
      "は\n",
      "きれい\n",
      "な\n",
      "花\n",
      "が\n",
      "咲い\n",
      "て\n",
      "い\n",
      "ます\n",
      "。\n"
     ]
    }
   ],
   "source": [
    "from janome.tokenizer import Tokenizer\n",
    "t = Tokenizer()\n",
    "for token in t.tokenize('今日はきれいな花が咲いています。',wakati=True):\n",
    "    print(token)"
   ]
  }
 ],
 "metadata": {
  "kernelspec": {
   "display_name": ".venv",
   "language": "python",
   "name": "python3"
  },
  "language_info": {
   "codemirror_mode": {
    "name": "ipython",
    "version": 3
   },
   "file_extension": ".py",
   "mimetype": "text/x-python",
   "name": "python",
   "nbconvert_exporter": "python",
   "pygments_lexer": "ipython3",
   "version": "3.12.1"
  }
 },
 "nbformat": 4,
 "nbformat_minor": 2
}
