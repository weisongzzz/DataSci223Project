{
 "cells": [
  {
   "cell_type": "code",
   "execution_count": 5,
   "metadata": {},
   "outputs": [
    {
     "name": "stdout",
     "output_type": "stream",
     "text": [
      "{'N5': [45, 109, 113, 90, 108], 'N4': [3, 34, 60, 81, 100], 'N3': [13, 32, 104, 184, 212], 'N2': [0, 4, 15, 37, 49], 'N1': [7, 20, 34, 85, 132], 'outcome': ['N5', 'N4', 'N3', 'N2', 'N1']}\n"
     ]
    }
   ],
   "source": [
    "# Mannualy enter values into the data structure and run\n",
    "\n",
    "import pandas as pd\n",
    "\n",
    "# Define the data for each column\n",
    "data = {\n",
    "    \"N5\": [45,109,113,90,108],  \n",
    "    \"N4\": [3,34,60,81,100],\n",
    "    \"N3\": [13,32,104,184,212],\n",
    "    \"N2\": [0,4,15,37,49],\n",
    "    \"N1\": [7,20,34,85,132],\n",
    "    \"outcome\": ['N5','N4','N3','N2','N1']\n",
    "}\n",
    "\n",
    "# Print the Data\n",
    "print(data)\n"
   ]
  },
  {
   "cell_type": "code",
   "execution_count": 7,
   "metadata": {},
   "outputs": [
    {
     "name": "stdout",
     "output_type": "stream",
     "text": [
      "Accuracy: 0.0\n"
     ]
    }
   ],
   "source": [
    "from sklearn.model_selection import train_test_split\n",
    "from sklearn.tree import DecisionTreeClassifier\n",
    "from sklearn.metrics import accuracy_score\n",
    "\n",
    "# Create a DataFrame\n",
    "df = pd.DataFrame(data)\n",
    "\n",
    "# Split the data into predictor variables (X) and outcome variable (y)\n",
    "X = df.drop(columns=[\"outcome\"])\n",
    "y = df[\"outcome\"]\n",
    "\n",
    "# Split the data into training and testing sets\n",
    "X_train, X_test, y_train, y_test = train_test_split(X, y, test_size=0.2, random_state=42)\n",
    "\n",
    "# Create and train the decision tree classifier\n",
    "model = DecisionTreeClassifier()\n",
    "model.fit(X_train, y_train)\n",
    "\n",
    "# Make predictions on the testing data\n",
    "predictions = model.predict(X_test)\n",
    "\n",
    "# Evaluate the model\n",
    "accuracy = accuracy_score(y_test, predictions)\n",
    "print(\"Accuracy:\", accuracy)\n"
   ]
  }
 ],
 "metadata": {
  "kernelspec": {
   "display_name": ".venv",
   "language": "python",
   "name": "python3"
  },
  "language_info": {
   "codemirror_mode": {
    "name": "ipython",
    "version": 3
   },
   "file_extension": ".py",
   "mimetype": "text/x-python",
   "name": "python",
   "nbconvert_exporter": "python",
   "pygments_lexer": "ipython3",
   "version": "3.12.1"
  }
 },
 "nbformat": 4,
 "nbformat_minor": 2
}
